{
 "cells": [
  {
   "cell_type": "code",
   "execution_count": 9,
   "id": "c032cf4a-be5e-4a60-9ec2-e0da5cc664d5",
   "metadata": {},
   "outputs": [
    {
     "name": "stdout",
     "output_type": "stream",
     "text": [
      "Identification of Positive and Negative Number\n"
     ]
    },
    {
     "name": "stdin",
     "output_type": "stream",
     "text": [
      "Enter an integer number: 00\n"
     ]
    },
    {
     "name": "stdout",
     "output_type": "stream",
     "text": [
      "Number Is Zero\n"
     ]
    }
   ],
   "source": [
    "print(\"Identification of Positive and Negative Numbers\\n\") \n",
    "\n",
    "\n",
    "Number=int(input(\"Enter an integer number:\"))\n",
    "if Number >0:\n",
    "    print(\"Number Is Positive\")\n",
    "elif Number <0:\n",
    "   print(\"Number Is Negative\")\n",
    "else :\n",
    "   print(\"Number Is Zero\")\n",
    "\n",
    "\n",
    "\n",
    "\n",
    "\n",
    "\n"
   ]
  },
  {
   "cell_type": "code",
   "execution_count": 13,
   "id": "1a3075ee-fc83-4663-8170-f3bbb4db9d28",
   "metadata": {},
   "outputs": [
    {
     "name": "stdout",
     "output_type": "stream",
     "text": [
      "Classification of Even and Odd Numbers\n"
     ]
    },
    {
     "name": "stdin",
     "output_type": "stream",
     "text": [
      "Enter a number: 0\n"
     ]
    },
    {
     "name": "stdout",
     "output_type": "stream",
     "text": [
      "The number is Even\n"
     ]
    }
   ],
   "source": [
    "print(\"Classification of Even and Odd Numbers\\n\")\n",
    "\n",
    "number=float(input(\"Enter a number:\"))\n",
    "if number %2==0:\n",
    "    print(\"The number is Even\")\n",
    "else:\n",
    "    print(\"The number is odd\") "
   ]
  },
  {
   "cell_type": "code",
   "execution_count": 41,
   "id": "d0a8b005-6499-423b-8ee2-f74daf69353c",
   "metadata": {},
   "outputs": [
    {
     "name": "stdout",
     "output_type": "stream",
     "text": [
      "Grade Calculation\n"
     ]
    },
    {
     "name": "stdin",
     "output_type": "stream",
     "text": [
      "Enter Your Number: 88\n"
     ]
    },
    {
     "name": "stdout",
     "output_type": "stream",
     "text": [
      "Your result is:B\n"
     ]
    }
   ],
   "source": [
    "print(\"***Grade Calculation****\\n\")\n",
    "\n",
    "number=float(input(\"Enter Your Number:\"))\n",
    "if 0<=number<=100:\n",
    "    if number >=90:\n",
    "        print(\"Your result is:A\")\n",
    "    elif number>=80:\n",
    "        print(\"Your result is:B\")\n",
    "    elif number>=70:\n",
    "        print(\"Your result is:C\")\n",
    "    elif number>=60:\n",
    "        print(\"Your result is:D\")\n",
    "elif number>100:\n",
    "    print(\"Your is result invalid\")\n",
    "    \n",
    "else:\n",
    "    print(\"Your Result is:F\")"
   ]
  },
  {
   "cell_type": "code",
   "execution_count": null,
   "id": "3ff822fb-c14c-4c9c-9071-a10b5d5a5217",
   "metadata": {},
   "outputs": [],
   "source": []
  }
 ],
 "metadata": {
  "kernelspec": {
   "display_name": "Python 3 (ipykernel)",
   "language": "python",
   "name": "python3"
  },
  "language_info": {
   "codemirror_mode": {
    "name": "ipython",
    "version": 3
   },
   "file_extension": ".py",
   "mimetype": "text/x-python",
   "name": "python",
   "nbconvert_exporter": "python",
   "pygments_lexer": "ipython3",
   "version": "3.11.7"
  }
 },
 "nbformat": 4,
 "nbformat_minor": 5
}
